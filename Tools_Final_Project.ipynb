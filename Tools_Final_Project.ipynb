{
 "cells": [
  {
   "cell_type": "markdown",
   "id": "22d438f6-7fe8-403b-a304-a7db3c439f13",
   "metadata": {
    "tags": []
   },
   "source": [
    "<h1> My Jupyter Notebook on IBM Watson Studio </h1>"
   ]
  },
  {
   "cell_type": "markdown",
   "id": "4e8969c0-4e8b-438a-b443-297ad6a91365",
   "metadata": {
    "tags": []
   },
   "source": [
    "<strong> Michelle Benoit </strong> </br>\n",
    "I currently work in pension programming, but will be changing jobs in a few months."
   ]
  },
  {
   "cell_type": "markdown",
   "id": "a1cab1ad-58b8-42bf-9865-18efcc6c0aac",
   "metadata": {
    "tags": []
   },
   "source": [
    "<em> I am interested in data science because it can utilize both my programming background and my science education.   As I look at what my next job would be, this seems like an area that I can excel in while working on interesting problems. </em>"
   ]
  },
  {
   "cell_type": "markdown",
   "id": "04159755-cab3-4e0f-b4eb-10024797a920",
   "metadata": {
    "tags": []
   },
   "source": [
    "<h3> The code in cell five calculates the birth year of people turning 65 this year. </h3>"
   ]
  },
  {
   "cell_type": "code",
   "execution_count": 9,
   "id": "8d5c56cf-3692-4748-bf70-3faf5e2c7011",
   "metadata": {},
   "outputs": [
    {
     "data": {
      "text/plain": [
       "1957"
      ]
     },
     "execution_count": 9,
     "metadata": {},
     "output_type": "execute_result"
    }
   ],
   "source": [
    "2022 - 65"
   ]
  },
  {
   "cell_type": "markdown",
   "id": "3812ab3c-9697-45d0-8a57-34429677f434",
   "metadata": {},
   "source": [
    "I have 5 cats who are all named for video games!\n",
    "1. Pac-Man\n",
    "2. Pinky\n",
    "3. Nefarian\n",
    "4. Alexstrazsa\n",
    "5. Chromie\n",
    "\n",
    "Here is a picture of Pac-Man and Pinky: </br>\n",
    "![alt text](https://jupyterlab-0-labs-prod-jupyterlab-us-east-0.labs.cognitiveclass.ai/user/milliways42/files/labs/DS0105EN/cat_pic.PNG?_xsrf=2%7Cbb28e058%7C5e7341b275288600c205aac55398fb4b%7C1666998792 \"Pac-Man and Pinky\")\n",
    "\n",
    "Learn more about the Pac-Man game and his ghostly nemesis Pinky here: [Pac-Man on Wikipedia](https://en.wikipedia.org/wiki/Pac-Man)"
   ]
  },
  {
   "cell_type": "code",
   "execution_count": null,
   "id": "f526fdfc-93d9-4cb3-9c5d-99547e28dff0",
   "metadata": {},
   "outputs": [],
   "source": []
  }
 ],
 "metadata": {
  "kernelspec": {
   "display_name": "Python",
   "language": "python",
   "name": "conda-env-python-py"
  },
  "language_info": {
   "codemirror_mode": {
    "name": "ipython",
    "version": 3
   },
   "file_extension": ".py",
   "mimetype": "text/x-python",
   "name": "python",
   "nbconvert_exporter": "python",
   "pygments_lexer": "ipython3",
   "version": "3.7.12"
  }
 },
 "nbformat": 4,
 "nbformat_minor": 5
}
